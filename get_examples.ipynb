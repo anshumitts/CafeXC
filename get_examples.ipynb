{
 "cells": [
  {
   "cell_type": "code",
   "execution_count": null,
   "metadata": {},
   "outputs": [],
   "source": [
    "!pip install git+https://github.com/kunaldahiya/pyxclib.git"
   ]
  },
  {
   "cell_type": "code",
   "execution_count": 1,
   "metadata": {},
   "outputs": [],
   "source": [
    "import os\n",
    "import matplotlib.pyplot as plt\n",
    "# plt.style.use('dark_background')\n",
    "\n",
    "from xc.tools.analysis import print_mats, decile_plot, AnalyseMatrix, load_overlap, _print_mats\n",
    "from xclib.data import data_utils as du\n",
    "import PIL.ImageOps as ImageOps\n",
    "import scipy.sparse as sp\n",
    "import numpy as np\n",
    "import PIL.Image as Image\n",
    "from io import BytesIO\n",
    "\n",
    "import base64\n",
    "import os\n",
    "import pickle as p\n",
    "\n",
    "from textwrap import wrap"
   ]
  },
  {
   "cell_type": "code",
   "execution_count": 4,
   "metadata": {},
   "outputs": [],
   "source": [
    "work_dir=f\"{os.environ['HOME']}/scratch/XC\"\n",
    "dset=\"G-LF-WikiTitles-1M\"\n",
    "data_dir=f\"{os.environ['HOME']}/data/{dset}\"\n",
    "score_mat_dir=f\"{work_dir}/score_mats/{dset}\"\n",
    "os.makedirs(score_mat_dir, exist_ok=True)"
   ]
  },
  {
   "cell_type": "code",
   "execution_count": 6,
   "metadata": {},
   "outputs": [
    {
     "name": "stderr",
     "output_type": "stream",
     "text": [
      "/ecstorage/XC/programs/GRN/PrivateXC/xc/tools/analysis.py:14: UserWarning: loadtxt: Empty input file: \"/home/t-ansmittal/data/G-LF-WikiTitles-1M/filter_labels_test.txt\"\n",
      "  filter_lbs = np.loadtxt(filter_label_file, dtype=np.int32)\n"
     ]
    }
   ],
   "source": [
    "_topk=5\n",
    "\n",
    "raw_images=f\"{data_dir}/images\"\n",
    "k = 5\n",
    "A, B = 0.6, 2.6\n",
    "\n",
    "tst_map = list(map(lambda x: x.strip(), open(f\"{data_dir}/raw_data/test.raw.txt\", \"r\").readlines()))\n",
    "lbl_map = list(map(lambda x: x.strip(), open(f\"{data_dir}/raw_data/label.raw.txt\", \"r\").readlines()))\n",
    "\n",
    "trn_y = du.read_sparse_file(f\"{data_dir}/trn_X_Y.txt\")\n",
    "tst_y = du.read_sparse_file(f\"{data_dir}/tst_X_Y.txt\")\n",
    "\n",
    "trn_imgs, lbl_imgs = None, None,\n",
    "if os.path.exists(f\"{data_dir}/images/label.img.bin.npz\"):\n",
    "    lbl_imgs = sp.load_npz(f\"{data_dir}/images/label.img.bin.npz\")\n",
    "    trn_imgs = sp.load_npz(f\"{data_dir}/images/train.img.bin.npz\")\n",
    "    tst_imgs = sp.load_npz(f\"{data_dir}/images/test.img.bin.npz\")\n",
    "    imgs = open(f\"{data_dir}/images/img.bin\", \"r\")\n",
    "filter_items = load_overlap(f\"{data_dir}/filter_labels_test.txt\")"
   ]
  },
  {
   "cell_type": "code",
   "execution_count": null,
   "metadata": {},
   "outputs": [
    {
     "name": "stderr",
     "output_type": "stream",
     "text": [
      "\r",
      "loading:   0%|          | 0/2 [00:00<?, ?it/s]"
     ]
    }
   ],
   "source": [
    "score_mats = {\n",
    "    \"ELIAS\": f\"{score_mat_dir}/ELIAS/score.npz\",\n",
    "    \"NGAME\": f\"{score_mat_dir}/NGAME/score.npz\"\n",
    "}\n",
    "score_mats = AnalyseMatrix(score_mats, _topk, filter_items)\n",
    "sorted_mats = [\"ELIAS\", \"NGAME\"]\n",
    "strict_mats = [-1, 2]"
   ]
  },
  {
   "cell_type": "code",
   "execution_count": null,
   "metadata": {},
   "outputs": [],
   "source": [
    "print_mats(score_mats, sorted_mats, strict_mats, _topk, tst_map, lbl_map,\n",
    "           tst_y, trn_y, out_file=f\"{score_mat_dir}/output.txt\")"
   ]
  },
  {
   "cell_type": "code",
   "execution_count": null,
   "metadata": {},
   "outputs": [],
   "source": [
    "decile_plot(score_mats, sorted_mats, _topk, 5, tst_y, trn_y, metric=\"P\",\n",
    "            title=\"MM-AmazonTitles-300K\", out_file=f\"{score_mat_dir}/decile_P_{_topk}.pdf\")"
   ]
  },
  {
   "cell_type": "code",
   "execution_count": null,
   "metadata": {},
   "outputs": [],
   "source": [
    "def fancy_stack(items, border=1):\n",
    "    len_items = len(items)\n",
    "    if len_items == 1:\n",
    "        return items[0]\n",
    "    _size = round(np.sqrt(len_items))\n",
    "    if _size*_size == len_items:\n",
    "        size_r, size_c = _size, _size\n",
    "    else:\n",
    "        size_r, size_c = _size, np.ceil(len_items/_size)\n",
    "        size_r, size_c = min(size_r, size_c), max(size_r, size_c)\n",
    "    size_r, size_c = int(size_r), int(size_c)\n",
    "    w, h = items[0].shape[0], items[0].shape[1]\n",
    "    vline = np.uint8(np.ones((w, border, 3)))\n",
    "    empty = np.ones((items[0].shape[0], items[0].shape[1], 3))*255\n",
    "    empty = np.uint8(empty)\n",
    "    for _ in range(int(size_r*size_c - len_items)):\n",
    "        items.append(empty)\n",
    "    k = 0\n",
    "    stacks = []\n",
    "    for _r in range(0, len(items), size_c):\n",
    "        _items = [items[_r]]\n",
    "        for b in range(1, size_c):\n",
    "            _items.append(vline)\n",
    "            _items.append(items[_r+b])\n",
    "        _items.append(vline)\n",
    "        _stack = np.hstack(_items)\n",
    "        stacks.append(_stack)\n",
    "    hline = np.uint8(np.ones((border, stacks[0].shape[1], 3)))\n",
    "    vstacks = [stacks[0]]\n",
    "    for _row in stacks[1:]:\n",
    "        vstacks.append(hline)\n",
    "        vstacks.append(_row)\n",
    "    return np.vstack(vstacks)\n",
    "        \n",
    "def read_img_bin(dat: str):\n",
    "    return np.asarray(Image.open(BytesIO(base64.b64decode(dat))), dtype=np.uint8)\n",
    "\n",
    "def show_data(idxs, txt_mat, img_mat, imgs, prefix=\"\", output_path=None, size=(128, 128)):\n",
    "    for idx in idxs:\n",
    "        print(prefix, idx)\n",
    "        items = []\n",
    "        title = txt_mat[idx].split(\"->\", 1)[1].strip()\n",
    "        for im_index, img_idx in enumerate(img_mat[idx].data):\n",
    "            imgs.seek(int(img_idx)-1)\n",
    "            _, b64_img = imgs.readline().split(\"\\t\")\n",
    "            limg = read_img_bin(b64_img).copy()\n",
    "            items.append(np.asarray(limg))\n",
    "            imgs.seek(0)\n",
    "        items = fancy_stack(items)\n",
    "        plt.figure()\n",
    "        title = r\"$\\mathtt{%s}$: %s\"%(prefix, \"\\n\".join(wrap(title, 40)))\n",
    "        plt.xlabel(title, fontsize=14)\n",
    "        plt.gca().xaxis.set_label_position(\"top\")\n",
    "        plt.xticks([])\n",
    "        plt.yticks([])\n",
    "        plt.imshow(items)\n",
    "        if output_path is not None:\n",
    "            os.makedirs(output_path, exist_ok=True)\n",
    "            plt.savefig(f\"{output_path}/{prefix}_{idx}.png\", bbox_inches='tight', dpi=200, pad_inches=0.0)\n",
    "        plt.show()"
   ]
  },
  {
   "cell_type": "code",
   "execution_count": null,
   "metadata": {},
   "outputs": [],
   "source": [
    "# to_puru = [39947]\n",
    "to_puru = [62352]\n",
    "x = to_puru[0]\n",
    "show_data(to_puru, tst_map, tst_imgs, imgs, \"X\", f\"{score_mat_dir}/data/{x}\")"
   ]
  },
  {
   "cell_type": "code",
   "execution_count": null,
   "metadata": {},
   "outputs": [],
   "source": [
    "key = \"GroundTurth\"\n",
    "if lbl_imgs is not None:\n",
    "    for x in to_puru:\n",
    "        idx = tst_y[x].indices\n",
    "        flg = np.ravel(tst_y[x, idx].todense())\n",
    "        print(idx, flg)\n",
    "        p_lidx = idx[flg==1]\n",
    "        show_data(p_lidx, lbl_map, lbl_imgs, imgs, \"Z_{+}\", f\"{score_mat_dir}/data/{x}/{key}\")\n",
    "        p_lidx = idx[flg==0]\n",
    "        show_data(p_lidx, lbl_map, lbl_imgs, imgs, \"Z_{-}\", f\"{score_mat_dir}/data/{x}/{key}\")"
   ]
  },
  {
   "cell_type": "code",
   "execution_count": null,
   "metadata": {},
   "outputs": [],
   "source": [
    "key = \"MUFIN-light\"\n",
    "key = \"MUFIN-onlyimg\"\n",
    "key = \"NGAME\"\n",
    "\n",
    "if lbl_imgs is not None:\n",
    "    for x in to_puru:\n",
    "        idx = score_mats[key][x].indices\n",
    "        flg = np.ravel(tst_y[x, idx].todense())\n",
    "        print(idx, flg)\n",
    "        p_lidx = idx[flg==1]\n",
    "        show_data(p_lidx, lbl_map, lbl_imgs, imgs, \"Z_{+}\", f\"{score_mat_dir}/data/{x}/{key}\")\n",
    "        p_lidx = idx[flg==0]\n",
    "        show_data(p_lidx, lbl_map, lbl_imgs, imgs, \"Z_{-}\", f\"{score_mat_dir}/data/{x}/{key}\")"
   ]
  },
  {
   "cell_type": "code",
   "execution_count": null,
   "metadata": {},
   "outputs": [],
   "source": [
    "\n",
    "def get_img_data(content, score_mats, tst_mat, lbl_mat, imgs, tst_y, lbl_txt, target_key=\"MUFIN\", size=(128, 128)):\n",
    "    for idx in range(len(content)):\n",
    "        items = []\n",
    "        for im_index, img_idx in enumerate(tst_mat[content[idx][\"index\"]].data):\n",
    "            imgs.seek(int(img_idx)-1)\n",
    "            _, b64_img = imgs.readline().split(\"\\t\")\n",
    "            limg = read_img_bin(b64_img).copy()\n",
    "            items.append(np.asarray(limg))\n",
    "            imgs.seek(0)\n",
    "        items = fancy_stack(items)\n",
    "        content[idx][\"doc_img\"] = items\n",
    "        if lbl_mat is not None:\n",
    "            lidx = score_mats[target_key][content[idx][\"index\"]].indices\n",
    "            print(lidx)\n",
    "            lflg = np.ravel(tst_y[content[idx][\"index\"], lidx].todense())\n",
    "            lbl_content = {}\n",
    "            for blah, _idx in enumerate(lidx):\n",
    "                items = []\n",
    "                for im_index, img_idx in enumerate(lbl_mat[idx].data):\n",
    "                    imgs.seek(int(img_idx)-1)\n",
    "                    _, b64_img = imgs.readline().split(\"\\t\")\n",
    "                    limg = read_img_bin(b64_img).copy()\n",
    "                    items.append(np.asarray(limg))\n",
    "                    imgs.seek(0)\n",
    "                items = fancy_stack(items)\n",
    "                lbl_content[lbl_txt[_idx].split(\"->\", 1)[0]] = {\"flag\": lflg[blah], \"img\": items}\n",
    "            content[idx][\"lbl_img\"] = lbl_content\n",
    "    return content"
   ]
  },
  {
   "cell_type": "code",
   "execution_count": null,
   "metadata": {},
   "outputs": [],
   "source": [
    "doc_frq = np.ravel(trn_y.sum(axis=0))\n",
    "datas = _print_mats(score_mats, to_puru, doc_frq, tst_map, lbl_map, tst_y, out_file=None)\n",
    "datas = get_img_data(datas, score_mats, tst_imgs, lbl_imgs, imgs, tst_y, lbl_map)\n",
    "p.dump(datas, open(f\"{score_mat_dir}/data.pkl\", \"wb\"))"
   ]
  },
  {
   "cell_type": "code",
   "execution_count": null,
   "metadata": {},
   "outputs": [],
   "source": [
    "def print_dats(data, output_path=None):\n",
    "    os.makedirs(output_path, exist_ok=True)\n",
    "    f = open(f\"{output_path}/print_log.txt\", \"w\")\n",
    "    for item in data:\n",
    "        print(item[\"title\"])\n",
    "        plt.figure()\n",
    "        title = item[\"title\"].split(\"->\", 1)[1].strip()\n",
    "        title = r\"$\\mathtt{%s}$: %s\"%(\"X\", \"\\n\".join(wrap(title, 40)))\n",
    "        plt.xlabel(title, fontsize=14)\n",
    "        plt.gca().xaxis.set_label_position(\"top\")\n",
    "        plt.xticks([])\n",
    "        plt.yticks([])\n",
    "        plt.imshow(item[\"doc_img\"])\n",
    "        print(f\"{item['index']}->{item['title']}\", file=f)\n",
    "        print(\"-\".join([\"\"]*80), file=f)\n",
    "        print(\", \".join(item[\"gt\"]), file=f)\n",
    "        print(\"-\".join([\"\"]*80), file=f)\n",
    "        for key in item[\"preds\"].keys():\n",
    "            print(key +\" \"+ item[\"preds\"][key][\"score\"] + \" : \" + \", \".join(item[\"preds\"][key][\"items\"]), file=f)\n",
    "            print(\"-\".join([\"\"]*80), file=f)\n",
    "        print(\"=\".join([\"\"]*80), file=f)\n",
    "        if output_path is not None:\n",
    "            folder = item[\"title\"].split(\"->\", 1)[0].strip().split(\",\")[0].strip()\n",
    "            path = os.path.join(output_path, folder)\n",
    "            os.makedirs(path, exist_ok=True)\n",
    "            plt.savefig(f\"{path}/doc.png\", bbox_inches='tight', dpi=200, pad_inches=0.0)\n",
    "        plt.show()\n",
    "    f.close()"
   ]
  },
  {
   "cell_type": "code",
   "execution_count": null,
   "metadata": {},
   "outputs": [],
   "source": [
    "data = p.load(open(f\"{score_mat_dir}/data.pkl\", \"rb\"))\n",
    "print_dats(data, f\"{score_mat_dir}/set_outputs\")"
   ]
  },
  {
   "cell_type": "code",
   "execution_count": null,
   "metadata": {},
   "outputs": [],
   "source": []
  }
 ],
 "metadata": {
  "kernelspec": {
   "display_name": "Python 3",
   "language": "python",
   "name": "python3"
  },
  "language_info": {
   "codemirror_mode": {
    "name": "ipython",
    "version": 3
   },
   "file_extension": ".py",
   "mimetype": "text/x-python",
   "name": "python",
   "nbconvert_exporter": "python",
   "pygments_lexer": "ipython3",
   "version": "3.6.10"
  }
 },
 "nbformat": 4,
 "nbformat_minor": 5
}
